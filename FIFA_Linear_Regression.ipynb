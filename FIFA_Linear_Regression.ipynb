{
  "nbformat": 4,
  "nbformat_minor": 0,
  "metadata": {
    "colab": {
      "name": "FIFA Linear Regression",
      "provenance": [],
      "collapsed_sections": []
    },
    "kernelspec": {
      "name": "python3",
      "display_name": "Python 3"
    },
    "language_info": {
      "name": "python"
    }
  },
  "cells": [
    {
      "cell_type": "markdown",
      "metadata": {
        "id": "-EdJZZW6KgI2"
      },
      "source": [
        "J. Manuel Garcia FIFA Player Potential Predictor"
      ]
    },
    {
      "cell_type": "markdown",
      "metadata": {
        "id": "vn20jnmXKmgs"
      },
      "source": [
        "Import necessary libraries"
      ]
    },
    {
      "cell_type": "code",
      "metadata": {
        "id": "8ztLJUISz3ep"
      },
      "source": [
        "import pandas as pd\n",
        "import numpy as np\n",
        "import seaborn as sns\n",
        "from sklearn import linear_model \n",
        "from scipy.stats import skew\n",
        "import numpy as np\n",
        "%matplotlib inline"
      ],
      "execution_count": null,
      "outputs": []
    },
    {
      "cell_type": "markdown",
      "metadata": {
        "id": "75SwKBHeKsF7"
      },
      "source": [
        "Get access to our google drive folders"
      ]
    },
    {
      "cell_type": "code",
      "metadata": {
        "colab": {
          "base_uri": "https://localhost:8080/"
        },
        "id": "mzml4VDlz6se",
        "outputId": "dae496a9-ef23-4105-9e98-a69fc0c55020"
      },
      "source": [
        "from google.colab import drive\n",
        "drive.mount('/content/drive')"
      ],
      "execution_count": null,
      "outputs": [
        {
          "output_type": "stream",
          "text": [
            "Drive already mounted at /content/drive; to attempt to forcibly remount, call drive.mount(\"/content/drive\", force_remount=True).\n"
          ],
          "name": "stdout"
        }
      ]
    },
    {
      "cell_type": "code",
      "metadata": {
        "colab": {
          "base_uri": "https://localhost:8080/"
        },
        "id": "3uOMGPezz8qv",
        "outputId": "3a4a7f3a-8474-4f17-9d95-d85cae6fb435"
      },
      "source": [
        "%cd '/content/drive/MyDrive/IA'\n",
        "!ls"
      ],
      "execution_count": null,
      "outputs": [
        {
          "output_type": "stream",
          "text": [
            "/content/drive/MyDrive/IA\n",
            " CompleteDataset.csv\t   Datalol.csv\t\t\t   Untitled\n",
            " CompleteDatasetFIFA.csv  'FIFA Linear Regression.ipynb'   Untitled0.ipynb\n",
            " CSPM_Predictor.ipynb\t   Linear_Regression.ipynb\n"
          ],
          "name": "stdout"
        }
      ]
    },
    {
      "cell_type": "markdown",
      "metadata": {
        "id": "hysd0e1XKvsD"
      },
      "source": [
        "Dataset visualization"
      ]
    },
    {
      "cell_type": "code",
      "metadata": {
        "colab": {
          "base_uri": "https://localhost:8080/"
        },
        "id": "OtklrdGFAZMy",
        "outputId": "fedb9df1-9b30-4d12-ec14-2ef2607844f9"
      },
      "source": [
        "dataFIFA = pd.read_csv('CompleteDatasetFIFA.csv')\n",
        "dataFIFA.info()"
      ],
      "execution_count": null,
      "outputs": [
        {
          "output_type": "stream",
          "text": [
            "<class 'pandas.core.frame.DataFrame'>\n",
            "RangeIndex: 15952 entries, 0 to 15951\n",
            "Data columns (total 11 columns):\n",
            " #   Column        Non-Null Count  Dtype  \n",
            "---  ------        --------------  -----  \n",
            " 0   Age           15952 non-null  int64  \n",
            " 1   Overall       15952 non-null  int64  \n",
            " 2   Potential     15952 non-null  int64  \n",
            " 3   Acceleration  15952 non-null  float64\n",
            " 4   Agility       15952 non-null  float64\n",
            " 5   Balance       15952 non-null  float64\n",
            " 6   Ball control  15952 non-null  float64\n",
            " 7   Reactions     15952 non-null  float64\n",
            " 8   Stamina       15952 non-null  float64\n",
            " 9   Strength      15952 non-null  float64\n",
            " 10  Vision        15952 non-null  float64\n",
            "dtypes: float64(8), int64(3)\n",
            "memory usage: 1.3 MB\n"
          ],
          "name": "stdout"
        }
      ]
    },
    {
      "cell_type": "markdown",
      "metadata": {
        "id": "lUacaj36KxAp"
      },
      "source": [
        "Dataset correlations"
      ]
    },
    {
      "cell_type": "code",
      "metadata": {
        "colab": {
          "base_uri": "https://localhost:8080/",
          "height": 427
        },
        "id": "7asx1K0b1V34",
        "outputId": "eb04b205-1eb8-43bc-d7cb-8f63522eda6b"
      },
      "source": [
        "dataFIFA.corr()"
      ],
      "execution_count": null,
      "outputs": [
        {
          "output_type": "execute_result",
          "data": {
            "text/html": [
              "<div>\n",
              "<style scoped>\n",
              "    .dataframe tbody tr th:only-of-type {\n",
              "        vertical-align: middle;\n",
              "    }\n",
              "\n",
              "    .dataframe tbody tr th {\n",
              "        vertical-align: top;\n",
              "    }\n",
              "\n",
              "    .dataframe thead th {\n",
              "        text-align: right;\n",
              "    }\n",
              "</style>\n",
              "<table border=\"1\" class=\"dataframe\">\n",
              "  <thead>\n",
              "    <tr style=\"text-align: right;\">\n",
              "      <th></th>\n",
              "      <th>Age</th>\n",
              "      <th>Overall</th>\n",
              "      <th>Potential</th>\n",
              "      <th>Acceleration</th>\n",
              "      <th>Agility</th>\n",
              "      <th>Balance</th>\n",
              "      <th>Ball control</th>\n",
              "      <th>Reactions</th>\n",
              "      <th>Stamina</th>\n",
              "      <th>Strength</th>\n",
              "      <th>Vision</th>\n",
              "    </tr>\n",
              "  </thead>\n",
              "  <tbody>\n",
              "    <tr>\n",
              "      <th>Age</th>\n",
              "      <td>1.000000</td>\n",
              "      <td>0.462062</td>\n",
              "      <td>-0.228583</td>\n",
              "      <td>-0.187989</td>\n",
              "      <td>-0.010481</td>\n",
              "      <td>-0.080641</td>\n",
              "      <td>0.250885</td>\n",
              "      <td>0.466492</td>\n",
              "      <td>0.206724</td>\n",
              "      <td>0.340734</td>\n",
              "      <td>0.246319</td>\n",
              "    </tr>\n",
              "    <tr>\n",
              "      <th>Overall</th>\n",
              "      <td>0.462062</td>\n",
              "      <td>1.000000</td>\n",
              "      <td>0.675489</td>\n",
              "      <td>0.171659</td>\n",
              "      <td>0.251199</td>\n",
              "      <td>0.061452</td>\n",
              "      <td>0.704749</td>\n",
              "      <td>0.837029</td>\n",
              "      <td>0.455517</td>\n",
              "      <td>0.345676</td>\n",
              "      <td>0.508824</td>\n",
              "    </tr>\n",
              "    <tr>\n",
              "      <th>Potential</th>\n",
              "      <td>-0.228583</td>\n",
              "      <td>0.675489</td>\n",
              "      <td>1.000000</td>\n",
              "      <td>0.244556</td>\n",
              "      <td>0.224871</td>\n",
              "      <td>0.112374</td>\n",
              "      <td>0.529906</td>\n",
              "      <td>0.510583</td>\n",
              "      <td>0.241944</td>\n",
              "      <td>0.089749</td>\n",
              "      <td>0.345994</td>\n",
              "    </tr>\n",
              "    <tr>\n",
              "      <th>Acceleration</th>\n",
              "      <td>-0.187989</td>\n",
              "      <td>0.171659</td>\n",
              "      <td>0.244556</td>\n",
              "      <td>1.000000</td>\n",
              "      <td>0.717602</td>\n",
              "      <td>0.581087</td>\n",
              "      <td>0.379364</td>\n",
              "      <td>0.130860</td>\n",
              "      <td>0.280421</td>\n",
              "      <td>-0.359738</td>\n",
              "      <td>0.297460</td>\n",
              "    </tr>\n",
              "    <tr>\n",
              "      <th>Agility</th>\n",
              "      <td>-0.010481</td>\n",
              "      <td>0.251199</td>\n",
              "      <td>0.224871</td>\n",
              "      <td>0.717602</td>\n",
              "      <td>1.000000</td>\n",
              "      <td>0.704568</td>\n",
              "      <td>0.547163</td>\n",
              "      <td>0.252505</td>\n",
              "      <td>0.280135</td>\n",
              "      <td>-0.425947</td>\n",
              "      <td>0.508653</td>\n",
              "    </tr>\n",
              "    <tr>\n",
              "      <th>Balance</th>\n",
              "      <td>-0.080641</td>\n",
              "      <td>0.061452</td>\n",
              "      <td>0.112374</td>\n",
              "      <td>0.581087</td>\n",
              "      <td>0.704568</td>\n",
              "      <td>1.000000</td>\n",
              "      <td>0.364259</td>\n",
              "      <td>0.096786</td>\n",
              "      <td>0.146007</td>\n",
              "      <td>-0.601603</td>\n",
              "      <td>0.381947</td>\n",
              "    </tr>\n",
              "    <tr>\n",
              "      <th>Ball control</th>\n",
              "      <td>0.250885</td>\n",
              "      <td>0.704749</td>\n",
              "      <td>0.529906</td>\n",
              "      <td>0.379364</td>\n",
              "      <td>0.547163</td>\n",
              "      <td>0.364259</td>\n",
              "      <td>1.000000</td>\n",
              "      <td>0.630043</td>\n",
              "      <td>0.335874</td>\n",
              "      <td>-0.046140</td>\n",
              "      <td>0.764664</td>\n",
              "    </tr>\n",
              "    <tr>\n",
              "      <th>Reactions</th>\n",
              "      <td>0.466492</td>\n",
              "      <td>0.837029</td>\n",
              "      <td>0.510583</td>\n",
              "      <td>0.130860</td>\n",
              "      <td>0.252505</td>\n",
              "      <td>0.096786</td>\n",
              "      <td>0.630043</td>\n",
              "      <td>1.000000</td>\n",
              "      <td>0.425478</td>\n",
              "      <td>0.267727</td>\n",
              "      <td>0.509723</td>\n",
              "    </tr>\n",
              "    <tr>\n",
              "      <th>Stamina</th>\n",
              "      <td>0.206724</td>\n",
              "      <td>0.455517</td>\n",
              "      <td>0.241944</td>\n",
              "      <td>0.280421</td>\n",
              "      <td>0.280135</td>\n",
              "      <td>0.146007</td>\n",
              "      <td>0.335874</td>\n",
              "      <td>0.425478</td>\n",
              "      <td>1.000000</td>\n",
              "      <td>0.237910</td>\n",
              "      <td>0.280732</td>\n",
              "    </tr>\n",
              "    <tr>\n",
              "      <th>Strength</th>\n",
              "      <td>0.340734</td>\n",
              "      <td>0.345676</td>\n",
              "      <td>0.089749</td>\n",
              "      <td>-0.359738</td>\n",
              "      <td>-0.425947</td>\n",
              "      <td>-0.601603</td>\n",
              "      <td>-0.046140</td>\n",
              "      <td>0.267727</td>\n",
              "      <td>0.237910</td>\n",
              "      <td>1.000000</td>\n",
              "      <td>-0.138951</td>\n",
              "    </tr>\n",
              "    <tr>\n",
              "      <th>Vision</th>\n",
              "      <td>0.246319</td>\n",
              "      <td>0.508824</td>\n",
              "      <td>0.345994</td>\n",
              "      <td>0.297460</td>\n",
              "      <td>0.508653</td>\n",
              "      <td>0.381947</td>\n",
              "      <td>0.764664</td>\n",
              "      <td>0.509723</td>\n",
              "      <td>0.280732</td>\n",
              "      <td>-0.138951</td>\n",
              "      <td>1.000000</td>\n",
              "    </tr>\n",
              "  </tbody>\n",
              "</table>\n",
              "</div>"
            ],
            "text/plain": [
              "                   Age   Overall  Potential  ...   Stamina  Strength    Vision\n",
              "Age           1.000000  0.462062  -0.228583  ...  0.206724  0.340734  0.246319\n",
              "Overall       0.462062  1.000000   0.675489  ...  0.455517  0.345676  0.508824\n",
              "Potential    -0.228583  0.675489   1.000000  ...  0.241944  0.089749  0.345994\n",
              "Acceleration -0.187989  0.171659   0.244556  ...  0.280421 -0.359738  0.297460\n",
              "Agility      -0.010481  0.251199   0.224871  ...  0.280135 -0.425947  0.508653\n",
              "Balance      -0.080641  0.061452   0.112374  ...  0.146007 -0.601603  0.381947\n",
              "Ball control  0.250885  0.704749   0.529906  ...  0.335874 -0.046140  0.764664\n",
              "Reactions     0.466492  0.837029   0.510583  ...  0.425478  0.267727  0.509723\n",
              "Stamina       0.206724  0.455517   0.241944  ...  1.000000  0.237910  0.280732\n",
              "Strength      0.340734  0.345676   0.089749  ...  0.237910  1.000000 -0.138951\n",
              "Vision        0.246319  0.508824   0.345994  ...  0.280732 -0.138951  1.000000\n",
              "\n",
              "[11 rows x 11 columns]"
            ]
          },
          "metadata": {
            "tags": []
          },
          "execution_count": 5
        }
      ]
    },
    {
      "cell_type": "markdown",
      "metadata": {
        "id": "fI_POPoZaN-U"
      },
      "source": [
        "By hand implementation"
      ]
    },
    {
      "cell_type": "code",
      "metadata": {
        "id": "fjHOKm3taShY"
      },
      "source": [
        "class Lrbh():\n",
        "  def __init__(self, X, y):\n",
        "    self.learningR = 0.03\n",
        "    self.epochs = 1500\n",
        "    self.n_samples = len(y)\n",
        "    self.n_features = np.size(X, 1)\n",
        "    \n",
        "  \n",
        "  # Data Normalization\n",
        "    self.X = np.hstack((np.ones((self.n_samples, 1)), (X - np.mean(X, 0)) / np.std(X, 0)))\n",
        "    self.y = y[:,np.newaxis]\n",
        "\n",
        "    self.params = np.zeros((self.n_features + 1, 1))\n",
        "\n",
        "  ## Fit model\n",
        "  def fit(self):\n",
        "    for i in range(self.epochs):\n",
        "      self.params = self.params - (self.learningR/self.n_samples) * self.X.T @ (self.X @ self.params - self.y)\n",
        "      \n",
        "    self.intercept_ = self.params[0]\n",
        "    self.coef_ = self.params[1:] \n",
        "\n",
        "    return self\n",
        "\n",
        "  # Training\n",
        "  def score(self, X, y):\n",
        "    if X is not None:\n",
        "      n_samples = np.size(X, 0)\n",
        "      X = np.hstack((np.ones((n_samples, 1)), (X - np.mean(X, 0)) / np.std(X, 0)))\n",
        "    else:\n",
        "      X = self.X\n",
        "    \n",
        "    if y is not None:\n",
        "      y = y[:,np.newaxis]\n",
        "    else:\n",
        "      y = self.y\n",
        "\n",
        "    hyp = X @ self.params\n",
        "    \n",
        "    return 1 - (((y - hyp)**2).sum() / ((y - y.mean())**2).sum())\n",
        "   \n",
        "    \n",
        "  \n",
        "  def predict(self, X):\n",
        "    n_samples = np.size(X, 0)\n",
        "    \n",
        "    return np.hstack((np.ones((n_samples, 1)), (X-np.mean(X, 0)) / np.std(X, 0))) @ self.params\n",
        "  \n",
        "  \n",
        "  def get_params(self):\n",
        "    return self.params   \n"
      ],
      "execution_count": null,
      "outputs": []
    },
    {
      "cell_type": "markdown",
      "metadata": {
        "id": "8URA7bPfK9IW"
      },
      "source": [
        "By hand vs Framework results"
      ]
    },
    {
      "cell_type": "code",
      "metadata": {
        "colab": {
          "base_uri": "https://localhost:8080/"
        },
        "id": "Ap8gDt3Xs7fI",
        "outputId": "118e5991-cc76-49ab-bf29-0df821898946"
      },
      "source": [
        "from sklearn.linear_model import LinearRegression\n",
        "from sklearn.model_selection import train_test_split\n",
        "from sklearn.metrics import mean_squared_error\n",
        "from sklearn import metrics\n",
        "from sklearn.model_selection import cross_val_score\n",
        "\n",
        "\n",
        "X = dataFIFA[['Age', 'Overall', 'Acceleration', 'Agility', 'Balance', 'Ball control', 'Reactions', 'Stamina', 'Strength', 'Vision']].to_numpy()\n",
        "y = dataFIFA.Potential.to_numpy()\n",
        "\n",
        "\n",
        "X_train, X_test, y_train, y_test, = train_test_split(X, y, test_size=0.3, random_state = 42)\n",
        "\n",
        "by_hand = Lrbh(X_train, y_train).fit()\n",
        "framework = LinearRegression().fit(X_train, y_train)\n",
        "\n",
        "\n",
        "\n",
        "by_hand_training = by_hand.score(None, None)\n",
        "framework_training = framework.score(X_train, y_train)\n",
        "\n",
        "\n",
        "by_hand_testing = by_hand.score(X_test, y_test)\n",
        "framework_testing = framework.score(X_test, y_test)\n",
        "acc = cross_val_score(framework, X, y)\n",
        "y_ = by_hand.predict(X_test)\n",
        "\n",
        "print('Mean Squared Error: %.3f' % np.sqrt(metrics.mean_squared_error(y_test,y_)))\n",
        "print(\"------------------\")\n",
        "print('Accuracy Framework in training: %.4f' % framework_training)\n",
        "print('Accuracy By hand in training: %.4f ' % by_hand_training)\n",
        "print(\"------------------\")\n",
        "print('Accuracy Framework in testing: %.4f' % framework_testing)\n",
        "print('Accuracy By hand: in testing: %.4f ' % by_hand_testing)\n",
        "print(\"------------------\")\n",
        "print('Mean Cross Validation Score: %.2f' % np.mean(acc))\n",
        "\n",
        "\n",
        "\n"
      ],
      "execution_count": null,
      "outputs": [
        {
          "output_type": "stream",
          "text": [
            "Mean Squared Error: 2.433\n",
            "------------------\n",
            "Accuracy Framework in training: 0.8381\n",
            "Accuracy By hand in training: 0.8381 \n",
            "------------------\n",
            "Accuracy Framework in testing: 0.8360\n",
            "Accuracy By hand: in testing: 0.8352 \n",
            "------------------\n",
            "Mean Cross Validation Score: 0.84\n"
          ],
          "name": "stdout"
        }
      ]
    },
    {
      "cell_type": "markdown",
      "metadata": {
        "id": "RsbVaf1PK41U"
      },
      "source": [
        "Visualization of our final model"
      ]
    },
    {
      "cell_type": "code",
      "metadata": {
        "colab": {
          "base_uri": "https://localhost:8080/",
          "height": 432
        },
        "id": "_TCecNVMBygL",
        "outputId": "74e8e8b5-c6d3-4c36-b22e-a338a8afeaa2"
      },
      "source": [
        "from yellowbrick.regressor import PredictionError, ResidualsPlot\n",
        "\n",
        "visualizer = PredictionError(framework).fit(X_train, y_train)\n",
        "visualizer.score(X_test, y_test)\n",
        "visualizer.poof()"
      ],
      "execution_count": null,
      "outputs": [
        {
          "output_type": "stream",
          "text": [
            "/usr/local/lib/python3.7/dist-packages/sklearn/utils/deprecation.py:144: FutureWarning: The sklearn.metrics.classification module is  deprecated in version 0.22 and will be removed in version 0.24. The corresponding classes / functions should instead be imported from sklearn.metrics. Anything that cannot be imported from sklearn.metrics is now part of the private API.\n",
            "  warnings.warn(message, FutureWarning)\n"
          ],
          "name": "stderr"
        },
        {
          "output_type": "display_data",
          "data": {
            "image/png": "[encoded data removed]",
            "text/plain": [
              "<Figure size 576x396 with 1 Axes>"
            ]
          },
          "metadata": {
            "tags": []
          }
        }
      ]
    },
    {
      "cell_type": "markdown",
      "metadata": {
        "id": "yUpOMzfXEPQ2"
      },
      "source": [
        "Queries"
      ]
    },
    {
      "cell_type": "code",
      "metadata": {
        "colab": {
          "base_uri": "https://localhost:8080/"
        },
        "id": "4afUl-xdERUv",
        "outputId": "e699ab1a-5769-419c-bba5-d4231b162521"
      },
      "source": [
        "print(\"PLEASE ENTER PLAYER INFORMATION\")\n",
        "Age = float(input(\"Age \"))\n",
        "Overall = float(input(\"Overall \"))\n",
        "Acceleration = float(input(\"Acceleration \"))\n",
        "Agility = float(input(\"Agility \"))\n",
        "Balance = float(input(\"Balance \"))\n",
        "Ball_control = float(input(\"Ball control \"))\n",
        "Reactions = float(input(\"Reactions \"))\n",
        "Stamina = float(input(\"Stamina \"))\n",
        "Strength = float(input(\"Strength \"))\n",
        "Vision = float(input(\"Vision \"))\n",
        "\n",
        "testpredict = framework.predict([[Age, Overall, Acceleration, Agility, Balance, Ball_control, Reactions, Stamina, Strength, Vision]])\n",
        "print(\"Your player potential is: %.17f\" % testpredict)\n"
      ],
      "execution_count": null,
      "outputs": [
        {
          "output_type": "stream",
          "text": [
            "PLEASE ENTER PLAYER INFORMATION\n",
            "Age 25\n",
            "Overall 83\n",
            "Acceleration 75\n",
            "Agility 86\n",
            "Balance 80\n",
            "Ball control 84\n",
            "Reactions 81\n",
            "Stamina 76\n",
            "Strength 36\n",
            "Vision 83\n",
            "Your player potential is: 86.8\n"
          ],
          "name": "stdout"
        }
      ]
    }
  ]
}